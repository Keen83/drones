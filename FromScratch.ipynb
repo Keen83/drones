{
  "cells": [
    {
      "cell_type": "markdown",
      "metadata": {
        "id": "KuI-B-0ZcJ-L"
      },
      "source": [
        "#### Prerequisites"
      ]
    },
    {
      "cell_type": "code",
      "execution_count": null,
      "metadata": {
        "colab": {
          "base_uri": "https://localhost:8080/"
        },
        "id": "X4-OucEwcPeT",
        "outputId": "027d6a2a-43d1-4557-f13b-8fa37174ee11"
      },
      "outputs": [],
      "source": [
        "!nvidia-smi"
      ]
    },
    {
      "cell_type": "markdown",
      "metadata": {
        "id": "CMpry6INb-nK"
      },
      "source": [
        "#### Define folders"
      ]
    },
    {
      "cell_type": "code",
      "execution_count": null,
      "metadata": {
        "colab": {
          "base_uri": "https://localhost:8080/"
        },
        "id": "iZSTWpQIb6Cp",
        "outputId": "04cf572c-e523-4d98-9ed6-ddfe0f487658"
      },
      "outputs": [],
      "source": [
        "import os\n",
        "HOME = os.getcwd()\n",
        "print(HOME)\n",
        "\n",
        "DATASET_PATH = f\"{HOME}/veh2\"\n",
        "print(DATASET_PATH)"
      ]
    },
    {
      "cell_type": "markdown",
      "metadata": {
        "id": "G3GCorZHWbEe"
      },
      "source": [
        "#### Create folder for dataset"
      ]
    },
    {
      "cell_type": "code",
      "execution_count": null,
      "metadata": {
        "colab": {
          "base_uri": "https://localhost:8080/"
        },
        "id": "9bAG11sZQzD9",
        "outputId": "f2899fb7-8df0-48d5-fe0c-69cc9758adf4"
      },
      "outputs": [],
      "source": [
        "!mkdir {DATASET_PATH}\n",
        "%cd {DATASET_PATH}"
      ]
    },
    {
      "cell_type": "markdown",
      "metadata": {
        "id": "5rNtOx2Wbtos"
      },
      "source": [
        "#### Download dataset"
      ]
    },
    {
      "cell_type": "code",
      "execution_count": null,
      "metadata": {
        "id": "AbUnv-wuXkmt"
      },
      "outputs": [],
      "source": [
        "# !pip install roboflow\n",
        "\n",
        "# from roboflow import Roboflow\n",
        "# rf = Roboflow(api_key=\"SRtf7tgeUBEDLz07CzJG\")\n",
        "# project = rf.workspace(\"martin-kozr\").project(\"vehicles-cns4f\")\n",
        "# dataset = project.version(2).download(\"yolov8\")"
      ]
    },
    {
      "cell_type": "markdown",
      "metadata": {
        "id": "9Of5RM0scqsj"
      },
      "source": [
        "#### Install ultralitics"
      ]
    },
    {
      "cell_type": "code",
      "execution_count": null,
      "metadata": {
        "colab": {
          "base_uri": "https://localhost:8080/"
        },
        "id": "6uQpWDzXWk6C",
        "outputId": "1acd10ca-228f-467a-f929-e91e7aa49449"
      },
      "outputs": [],
      "source": [
        "!pip install ultralytics"
      ]
    },
    {
      "cell_type": "code",
      "execution_count": null,
      "metadata": {
        "colab": {
          "base_uri": "https://localhost:8080/"
        },
        "id": "WwOwINFKdC-A",
        "outputId": "f15905f3-f14c-4c4d-9340-18664b880feb"
      },
      "outputs": [],
      "source": [
        "import ultralytics\n",
        "from ultralytics import YOLO\n",
        "import os\n",
        "from IPython.display import display, Image\n",
        "from IPython import display\n",
        "display.clear_output()\n",
        "\n",
        "ultralytics.checks()"
      ]
    },
    {
      "cell_type": "code",
      "execution_count": null,
      "metadata": {
        "colab": {
          "base_uri": "https://localhost:8080/"
        },
        "id": "tdZ2psdahJKn",
        "outputId": "e1a41557-0f6a-4c54-9511-119a59a1b979"
      },
      "outputs": [],
      "source": [
        "# model = YOLO(\"yolov8m.pt\")\n",
        "model = YOLO(\"/home/kanary/proj/try-yolo/veh2/runs/detect/train4/weights/best.pt\")\n",
        "# print(model)"
      ]
    },
    {
      "cell_type": "code",
      "execution_count": null,
      "metadata": {
        "colab": {
          "base_uri": "https://localhost:8080/"
        },
        "id": "MrDmhkLNhc70",
        "outputId": "d023c42c-60f1-4673-b87a-24c310a86218"
      },
      "outputs": [],
      "source": [
        "model.train(data=f\"{DATASET_PATH}/tanks/data.yaml\", epochs=100)"
      ]
    },
    {
      "cell_type": "markdown",
      "metadata": {},
      "source": [
        "#### Predict image"
      ]
    },
    {
      "cell_type": "code",
      "execution_count": null,
      "metadata": {},
      "outputs": [],
      "source": [
        "model.predict('tanks.png', show=True, save=True, conf=0.1)"
      ]
    },
    {
      "cell_type": "markdown",
      "metadata": {},
      "source": [
        "#### Predict video"
      ]
    },
    {
      "cell_type": "code",
      "execution_count": null,
      "metadata": {},
      "outputs": [],
      "source": [
        "model.track(source='tanks15.mp4', save=True, conf=0.5)"
      ]
    }
  ],
  "metadata": {
    "accelerator": "GPU",
    "colab": {
      "gpuType": "T4",
      "provenance": []
    },
    "kernelspec": {
      "display_name": "Python 3",
      "name": "python3"
    },
    "language_info": {
      "codemirror_mode": {
        "name": "ipython",
        "version": 3
      },
      "file_extension": ".py",
      "mimetype": "text/x-python",
      "name": "python",
      "nbconvert_exporter": "python",
      "pygments_lexer": "ipython3",
      "version": "3.10.12"
    }
  },
  "nbformat": 4,
  "nbformat_minor": 0
}
